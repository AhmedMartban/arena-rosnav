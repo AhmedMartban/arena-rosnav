{
 "cells": [
  {
   "cell_type": "code",
   "execution_count": null,
   "metadata": {},
   "outputs": [],
   "source": [
    "import numpy as np\n",
    "from typing import Tuple, Collection, Any, Dict, List, Optional, Set"
   ]
  },
  {
   "cell_type": "code",
   "execution_count": null,
   "metadata": {},
   "outputs": [],
   "source": [
    "WorldWall = Tuple[Tuple[float, float], Tuple[float,float]]\n",
    "WorldWalls = Set[WorldWall]"
   ]
  },
  {
   "cell_type": "code",
   "execution_count": null,
   "metadata": {},
   "outputs": [],
   "source": [
    "def RLE_1D(grid: np.ndarray) -> List[List[int]]:\n",
    "    res: List[List[int]] = list()\n",
    "    for major in grid:\n",
    "        run: int = 1\n",
    "        last: int = major[0]\n",
    "        subres: List[int] = list()\n",
    "        for minor in major[1:]:\n",
    "            if minor == last:\n",
    "                run += 1\n",
    "            else:\n",
    "                subres.append(run)\n",
    "                run = 1\n",
    "                last = minor\n",
    "        #intentially don't add last run - no new wall\n",
    "        res.append(subres)\n",
    "    return res "
   ]
  },
  {
   "cell_type": "code",
   "execution_count": null,
   "metadata": {},
   "outputs": [],
   "source": [
    "def RLE_2D(grid: np.ndarray) -> WorldWalls:\n",
    "\n",
    "    class WallLines(Dict[float, List[Tuple[float, float]]]):\n",
    "\n",
    "        _inverted: bool\n",
    "\n",
    "        def __init__(self, inverted: bool = False, *args, **kwargs):\n",
    "            super().__init__(*args, **kwargs)\n",
    "            self._inverted = inverted\n",
    "\n",
    "        def add(self, major: float, minor: float):\n",
    "            if major not in self:\n",
    "                self[major] = [(minor, minor+1)]\n",
    "                return\n",
    "            \n",
    "            last = self[major][-1]\n",
    "\n",
    "            if minor == last[1]:\n",
    "                self[major][-1] = (last[0], minor+1)\n",
    "            else:\n",
    "                self[major].append((minor, minor+1))\n",
    "\n",
    "        @property\n",
    "        def lines(self) -> WorldWalls:\n",
    "            if self._inverted:\n",
    "                return set([((start, major), (end, major)) for major, segment in self.items()  for start, end in segment])\n",
    "            \n",
    "            else:\n",
    "                return set([((major, start), (major, end)) for major, segment in self.items()  for start, end in segment])\n",
    "\n",
    "    walls_x = WallLines()\n",
    "    walls_y = WallLines(inverted=True)\n",
    "\n",
    "    for y, rles in enumerate(RLE_1D(grid)):\n",
    "        distance: int = 0\n",
    "        for run in rles:\n",
    "            distance += run\n",
    "            walls_x.add(distance, y)\n",
    "\n",
    "    for x, rles in enumerate(RLE_1D(grid.T)):\n",
    "        distance: int = 0\n",
    "        for run in rles:\n",
    "            distance += run\n",
    "            walls_y.add(distance, x)\n",
    "\n",
    "    return set().union(walls_x.lines, walls_y.lines)"
   ]
  },
  {
   "cell_type": "code",
   "execution_count": null,
   "metadata": {},
   "outputs": [],
   "source": [
    "import cv2\n",
    "\n",
    "base_img = cv2.imread(\"map4.png\", cv2.IMREAD_GRAYSCALE)\n",
    "base = (base_img > base_img.mean(axis=-1)).astype(int)\n"
   ]
  },
  {
   "cell_type": "code",
   "execution_count": null,
   "metadata": {},
   "outputs": [],
   "source": [
    "import matplotlib.pyplot as plt\n",
    "\n",
    "\n",
    "print(base[::-1,:])\n",
    "\n",
    "walls = RLE_2D(base)\n",
    "\n",
    "print(walls)\n",
    "\n",
    "ax = plt.subplot()\n",
    "ax.invert_yaxis()\n",
    "\n",
    "ax.set_xlim(0, base.shape[1])\n",
    "ax.set_ylim(0, base.shape[0])\n",
    "\n",
    "for endpoints in walls:\n",
    "    ax.plot(*zip(*endpoints))\n",
    "\n",
    "plt.show()"
   ]
  },
  {
   "cell_type": "code",
   "execution_count": null,
   "metadata": {},
   "outputs": [],
   "source": [
    "\n",
    "\n"
   ]
  }
 ],
 "metadata": {
  "kernelspec": {
   "display_name": "arena-rosnav-LPoJDzQa-py3.8",
   "language": "python",
   "name": "python3"
  },
  "language_info": {
   "codemirror_mode": {
    "name": "ipython",
    "version": 3
   },
   "file_extension": ".py",
   "mimetype": "text/x-python",
   "name": "python",
   "nbconvert_exporter": "python",
   "pygments_lexer": "ipython3",
   "version": "3.8.10"
  }
 },
 "nbformat": 4,
 "nbformat_minor": 2
}
