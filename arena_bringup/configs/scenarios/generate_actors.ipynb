{
 "cells": [
  {
   "cell_type": "code",
   "execution_count": null,
   "metadata": {},
   "outputs": [],
   "source": [
    "import random\n",
    "import math\n",
    "import json"
   ]
  },
  {
   "cell_type": "code",
   "execution_count": null,
   "metadata": {},
   "outputs": [],
   "source": [
    "def uni_ellipse(center, hx, hy, steps):\n",
    "     steps = 4*steps\n",
    "     return [[round(center[0] + hx*math.cos(step/steps * 2 * math.pi)), round(center[1\n",
    "] + hy*math.sin(step/steps * 2 * math.pi))] for step in range(steps)]\n",
    "\n",
    "def uni_rect(center, hx, hy, steps):\n",
    "     def side(dx, dy):\n",
    "          corner = center[0] + dx*hx, center[1] + dy*hy\n",
    "          dx *= dx == dy \n",
    "          dy *= dx != dy\n",
    "\n",
    "          return [\n",
    "               [\n",
    "                    round(corner[0] - step/steps * dx * 2 * hx),\n",
    "                    round(corner[1] - step/steps * dy * 2 * hy)\n",
    "               ]\n",
    "               for step in range(steps)\n",
    "          ]\n",
    "\n",
    "     return [point for dx, dy in [[-1,-1], [1,-1], [1,1], [-1,1]] for point in side(dx, dy)]\n",
    "          \n"
   ]
  },
  {
   "cell_type": "code",
   "execution_count": null,
   "metadata": {},
   "outputs": [],
   "source": [
    "def gen_actor(universe, i):\n",
    "    return {\n",
    "        \"name\":str(i),\n",
    "        \"id\":i,\n",
    "        \"type\":\"adult\",\n",
    "        \"model\":\"actor1\",\n",
    "        \"pos\": random.choice(universe),\n",
    "        \"waypoints\":random.sample(list(universe), len(universe))\n",
    "    }"
   ]
  },
  {
   "cell_type": "code",
   "execution_count": null,
   "metadata": {},
   "outputs": [],
   "source": [
    "universe = uni_ellipse([12,12], 5, 5, 3) + uni_rect([12,12], 5, 5, 3)\n",
    "print(json.dumps([gen_actor(universe, i) for i in range(10)]))"
   ]
  },
  {
   "cell_type": "code",
   "execution_count": null,
   "metadata": {},
   "outputs": [],
   "source": []
  }
 ],
 "metadata": {
  "kernelspec": {
   "display_name": "arena-rosnav-LPoJDzQa-py3.8",
   "language": "python",
   "name": "python3"
  },
  "language_info": {
   "codemirror_mode": {
    "name": "ipython",
    "version": 3
   },
   "file_extension": ".py",
   "mimetype": "text/x-python",
   "name": "python",
   "nbconvert_exporter": "python",
   "pygments_lexer": "ipython3",
   "version": "3.8.10"
  }
 },
 "nbformat": 4,
 "nbformat_minor": 2
}
